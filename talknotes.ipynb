{
 "cells": [
  {
   "cell_type": "code",
   "execution_count": 1,
   "metadata": {},
   "outputs": [],
   "source": [
    "import numpy as np\n",
    "import matplotlib.pyplot as plt\n",
    "\n",
    "%matplotlib inline\n",
    "from IPython.core.pylabtools import figsize"
   ]
  },
  {
   "cell_type": "code",
   "execution_count": null,
   "metadata": {},
   "outputs": [],
   "source": []
  },
  {
   "cell_type": "markdown",
   "metadata": {},
   "source": [
    "# The plan\n",
    "\n",
    "1. What’s a neural network?\n",
    "2. Layers\n",
    "3. Why do we care?\n",
    "4. Common architectures:\n",
    "    1. Convolutional networks\n",
    "    2. Recurrent networks\n",
    "    3. Graph networks\n",
    "    4. Transformers \n",
    "    5. Dense networks\n",
    "5. Using NNs in more complicated workflows"
   ]
  },
  {
   "cell_type": "code",
   "execution_count": null,
   "metadata": {},
   "outputs": [],
   "source": []
  },
  {
   "cell_type": "markdown",
   "metadata": {},
   "source": [
    "# What’s an artificial neural network?\n",
    "\n",
    "* Complicated ML model built by concatenating simple pieces\n",
    "* Layers between input and output are “hidden”\n",
    "* Intermediate “representations”\n",
    "* Train with mini batch stochastic gradient descent: \n",
    "    * draw a sample from your data\n",
    "    * Pass data through the network\n",
    "    * compute the value of the loss function on model outputs\n",
    "    * Update model parameters by the derivative of the loss with respect to each parameter\n",
    "    * Repeat many, many times\n",
    "    \n",
    "    \n",
    "$\\theta_{i+1} = \\theta_{i} - \\eta \\nabla_{\\theta}L[y_{i}, f(x_{i}; \\theta)]$\n",
    "\n",
    "for parameters $\\theta$, learning rate $\\eta$, batch data $x_{i}$, batch labels $y_{i}$, neural network $f$ and loss function $L$\n",
    "    \n",
    "<img src=\"img/neural_network_wikipedia.png\"  style=\"width: 200px;\"/>   "
   ]
  },
  {
   "cell_type": "code",
   "execution_count": null,
   "metadata": {},
   "outputs": [],
   "source": []
  },
  {
   "cell_type": "markdown",
   "metadata": {},
   "source": [
    "# What’s a layer?\n",
    "\n",
    "* Weight layers do two things:\n",
    "    * perform a linear transformation\n",
    "    * Apply a nonlinear “activation function” element-wise\n",
    "        * Intuition for sigmoid activation: each layer is a bunch of parallel logistic regressions\n",
    "        * Intuition for ReLU activation: each layer is learning a set of linear piecewise functions\n",
    "        \n",
    "        \n",
    "$f_{j} = \\sigma(W_{j}x + b_{j})$\n",
    "![](img/activation_functions.png)\n",
    "* We can also include layers without trainable weights that:\n",
    "    * Change statistics during training (batch normalization, dropout)\n",
    "    * Change the representation by aggregating or transforming features (pooling)\n",
    "    \n",
    "* We can build layers that are compositions of other layers\n",
    "\n",
    "![](img/residualblock.png)"
   ]
  },
  {
   "cell_type": "code",
   "execution_count": null,
   "metadata": {},
   "outputs": [],
   "source": []
  },
  {
   "cell_type": "code",
   "execution_count": null,
   "metadata": {},
   "outputs": [],
   "source": []
  },
  {
   "cell_type": "markdown",
   "metadata": {},
   "source": [
    "# Why all the fuss about NNs?\n",
    "\n",
    "* amazingly good at some tasks\n",
    "* universal approximation theorems (not as useful as it sounds)\n",
    "* can design layers (especially early ones) to generate representations that are equivariant to (approximate) symmetries of our problem\n",
    "    * $f(T(x)) = T(f(x))$ for some symmetry transformation T\n",
    "    * e.g. make the model’s job easier by preventing it from learning types of patterns you don’t want it to learn\n",
    "    * every impressive NN application restricts what the NN can learn\n",
    "* the model as a differentiable function opens up a lot of interesting applications\n"
   ]
  },
  {
   "cell_type": "code",
   "execution_count": null,
   "metadata": {},
   "outputs": [],
   "source": []
  },
  {
   "cell_type": "markdown",
   "metadata": {},
   "source": [
    "# Convolutional layers\n",
    "\n",
    "* Geometry: Nd lattice \n",
    "* Equivariant to translation group\n",
    "* Intuition: a small dense neural network that we apply as a sliding window across a sequence, image, or higher-order tensor\n",
    "* Classic paper: “ImageNet Classification with Deep Convolutional Neural Networks” by Krizhevsky et al\n",
    "* Useful reference: “A guide to convolution arithmetic for deep learning” by Dumoulin and Visin\n",
    "\n",
    "![](img/convnet_from_dumoulin.png)\n",
    "\n",
    "![](img/alexnet.png)"
   ]
  },
  {
   "cell_type": "code",
   "execution_count": null,
   "metadata": {},
   "outputs": [],
   "source": []
  },
  {
   "cell_type": "markdown",
   "metadata": {},
   "source": [
    "# Recurrent layers\n",
    "\n",
    "* Geometry: 1D lattice\n",
    "* Used for data that comes in a sequence. Used to be what everybody used for text.\n",
    "* Good introductory read: Karpathy’s “The Unreasonable Effectiveness of Recurrent Neural Networks” http://karpathy.github.io/2015/05/21/rnn-effectiveness/ \n",
    "\n",
    "![](img/rnn_configurations_karpathy.jpeg)\n",
    "![](img/lstm_cell_wikipedia.png)"
   ]
  },
  {
   "cell_type": "code",
   "execution_count": null,
   "metadata": {},
   "outputs": [],
   "source": []
  },
  {
   "cell_type": "markdown",
   "metadata": {},
   "source": [
    "# Graph neural networks\n",
    "\n",
    "![](img/conv_vs_graph_conv_wu.png)\n",
    "\n",
    "* Equivariant to permutation group (no ordering to neighbors of a node)\n",
    "* Approaches differ in how they aggregate features from a node's neighbors\n",
    "  * **graph convolution** features for node $u$: $\\bigoplus_{v\\in N_{u}}c_{uv}x_{v}$\n",
    "  * **graph attention** features for node $u$: $\\bigoplus_{v\\in N_{u}}a(x_{u}, x_{v})x_{v}$\n",
    "  * **message-passing** features for node $u$: $\\bigoplus_{v\\in N_{u}}\\psi(x_{u}, x_{v})$\n",
    "  \n",
    "* graph convolution $\\subseteq$ graph attention $\\subseteq$ message passing\n",
    "* Also spectral graph networks based on the graph Fourier transform\n",
    "* Intro I found useful for relating to other graph methods: “Representation Learning on Graphs: Methods and Applications” by Hamilton et al\n",
    "* Graph conv diagram from “A Comprehensive Survey on Graph Neural Networks” by Wu et al\n",
    "\n",
    "![](img/kipf_welling_karateclub_gnn.png)"
   ]
  },
  {
   "cell_type": "code",
   "execution_count": null,
   "metadata": {},
   "outputs": [],
   "source": []
  },
  {
   "cell_type": "code",
   "execution_count": null,
   "metadata": {},
   "outputs": [],
   "source": []
  },
  {
   "cell_type": "markdown",
   "metadata": {},
   "source": [
    "# Transformers\n",
    "\n",
    "* Equivariant to permutation group \n",
    "* Convolutional architectures are necessarily building representations out of local comparisons. What if we have lattice-structured data but want to be able to model long-range behavior?\n",
    "    * Build a graph neural network with a fully-connected graph\n",
    "    * Encode position information in the inputs instead of the model architecture \n",
    "\n",
    "* Classic paper: “Attention is all you need” by Vaswani et al\n",
    "\n",
    "\n",
    "![](img/transformer.png)"
   ]
  },
  {
   "cell_type": "code",
   "execution_count": null,
   "metadata": {},
   "outputs": [],
   "source": []
  },
  {
   "cell_type": "markdown",
   "metadata": {},
   "source": [
    "# Dense networks\n",
    "\n",
    "* What if the data doesn’t have any structure you can exploit? e.g. tabular data?\n",
    "* Generally better off using tree-based ensemble models in this case (“Tabular Data: Deep Learning is not All You Need” by Shwartz-Ziv, Armon https://arxiv.org/abs/2106.03253 )\n",
    "* Exception might be cases where you’ve got sparse high-dimensional categorical variables that would benefit from a semantic embedding (“Wide and Deep learning for recommender systems”, Cheng et al https://arxiv.org/abs/1606.07792 )"
   ]
  },
  {
   "cell_type": "code",
   "execution_count": null,
   "metadata": {},
   "outputs": [],
   "source": []
  },
  {
   "cell_type": "markdown",
   "metadata": {},
   "source": [
    "# Using NNs as components in more complicated workflows\n",
    "\n",
    "* boring but really useful stuff:\n",
    "  * train a neural network on one task and \"transfer learn\" to a new task\n",
    "  * freeze some pretrained weights and fine tune others for a different problem"
   ]
  },
  {
   "cell_type": "markdown",
   "metadata": {},
   "source": [
    "# NN as a differentiable function\n",
    "\n",
    "* Adversarial attack “Explaining and Harnessing Adversarial Examples” Goodfellow et al\n",
    "\n",
    "![](img/adv_attack.png)\n",
    "\n",
    "* Neural style transfer “A Neural Algorithm of Artistic Style” by Gatys et al"
   ]
  },
  {
   "cell_type": "code",
   "execution_count": null,
   "metadata": {},
   "outputs": [],
   "source": []
  },
  {
   "cell_type": "markdown",
   "metadata": {},
   "source": [
    "# Generative neural networks with a two-player game\n",
    "\n",
    "* Generative adversarial networks\n",
    " * Build a **generator** network that inputs a random vector and outputs an image (or whatever your domain of interest is). So you can sample a random number and generate an image.\n",
    " * Build a **discriminator** network that inputs an image and outputs a probability.\n",
    " * Train both networks together:\n",
    "   * train the discriminator to classify an image as either \"real\" or \"fake\" \n",
    "   * train the generator to fool the discriminator\n",
    "\n",
    "* GAN “Generative Adversarial Networks” Goodfellow et al"
   ]
  },
  {
   "cell_type": "code",
   "execution_count": null,
   "metadata": {},
   "outputs": [],
   "source": []
  },
  {
   "cell_type": "markdown",
   "metadata": {},
   "source": [
    "# you can literally make this as complicated as you want\n",
    "\n",
    "getty paper"
   ]
  },
  {
   "cell_type": "code",
   "execution_count": null,
   "metadata": {},
   "outputs": [],
   "source": []
  },
  {
   "cell_type": "code",
   "execution_count": null,
   "metadata": {},
   "outputs": [],
   "source": []
  },
  {
   "cell_type": "markdown",
   "metadata": {},
   "source": [
    "# all the advice you didn't ask for\n",
    "\n",
    "* Pytorch vs TensorFlow: just pick your favorite\n",
    "* Don’t try to just learn theory without practicing. Lots of “folk knowledge” used to get results\n",
    "* Don’t try to just run code you don’t understand without learning theory. Otherwise when something goes wrong you’re just guessing\n",
    "* Lots of good books and classes out there.\n",
    "    * Good application book: Deep Learning with Python by Chollet\n",
    "    * Good theory book: Deep Learning by Goodfellow\n",
    "    * Challenge book: Geometric Deep Learning: Grids, Groups, Graphs, Geodesics and Gauges by Bronstein et al\n",
    "    \n",
    "* Interpretation of academic literature is a skill you should develop\n",
    "  * this field has serious hype/money issues other research fields don't\n",
    "  * \"improving on a benchmark\" often required to get published or accepted in a conference --> unhealthy obsession with benchmarks that often aren't the whole study\n",
    "  * pay close attention to hardware used, especially in Google/DeepMind papers"
   ]
  },
  {
   "cell_type": "code",
   "execution_count": null,
   "metadata": {},
   "outputs": [],
   "source": []
  },
  {
   "cell_type": "code",
   "execution_count": null,
   "metadata": {},
   "outputs": [],
   "source": []
  },
  {
   "cell_type": "code",
   "execution_count": null,
   "metadata": {},
   "outputs": [],
   "source": []
  },
  {
   "cell_type": "code",
   "execution_count": 3,
   "metadata": {},
   "outputs": [],
   "source": [
    "def relu(x):\n",
    "    return x*(x > 0)\n",
    "\n",
    "def sigmoid(x):\n",
    "    return 1/(1+np.exp(-x))"
   ]
  },
  {
   "cell_type": "code",
   "execution_count": 10,
   "metadata": {},
   "outputs": [
    {
     "data": {
      "image/png": "[encoded data removed]",
      "text/plain": [
       "<Figure size 504x360 with 1 Axes>"
      ]
     },
     "metadata": {
      "needs_background": "light"
     },
     "output_type": "display_data"
    }
   ],
   "source": [
    "figsize(7,5)\n",
    "x = np.linspace(-5,5,100)\n",
    "\n",
    "plt.plot(x, sigmoid(x), lw=2, label=\"sigmoid\")\n",
    "plt.plot(x, np.tanh(x), label=\"tanh\")\n",
    "plt.plot(x, relu(x), label=\"ReLU\")\n",
    "plt.ylim(-1.5,2)\n",
    "plt.legend(loc=\"lower right\")\n",
    "plt.grid(True);"
   ]
  },
  {
   "cell_type": "code",
   "execution_count": 15,
   "metadata": {},
   "outputs": [
    {
     "data": {
      "image/png": "[encoded data removed]",
      "text/plain": [
       "<Figure size 864x216 with 3 Axes>"
      ]
     },
     "metadata": {
      "needs_background": "light"
     },
     "output_type": "display_data"
    }
   ],
   "source": [
    "figsize(12,3)\n",
    "x = np.linspace(-5,5,100)\n",
    "\n",
    "plt.subplot(131)\n",
    "plt.plot(x, sigmoid(x), lw=2)\n",
    "plt.title(\"sigmoid\", fontsize=14)\n",
    "plt.grid(True);\n",
    "\n",
    "plt.subplot(132)\n",
    "plt.plot(x, np.tanh(x), lw=2)\n",
    "plt.title(\"tanh\", fontsize=14)\n",
    "plt.grid(True);\n",
    "\n",
    "plt.subplot(133)\n",
    "plt.plot(x, relu(x), label=\"ReLU\")\n",
    "plt.title(\"ReLU\", fontsize=14)\n",
    "plt.grid(True);\n",
    "\n",
    "\n"
   ]
  },
  {
   "cell_type": "code",
   "execution_count": null,
   "metadata": {},
   "outputs": [],
   "source": []
  }
 ],
 "metadata": {
  "kernelspec": {
   "display_name": "Python 3",
   "language": "python",
   "name": "python3"
  },
  "language_info": {
   "codemirror_mode": {
    "name": "ipython",
    "version": 3
   },
   "file_extension": ".py",
   "mimetype": "text/x-python",
   "name": "python",
   "nbconvert_exporter": "python",
   "pygments_lexer": "ipython3",
   "version": "3.7.7"
  }
 },
 "nbformat": 4,
 "nbformat_minor": 4
}
