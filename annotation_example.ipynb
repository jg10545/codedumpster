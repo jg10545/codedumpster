{
 "cells": [
  {
   "cell_type": "markdown",
   "id": "1f7b69fc-f0c0-4e5b-8437-825db832bf6d",
   "metadata": {},
   "source": [
    "# some sort of labeling object\n",
    "\n",
    "## use cases\n",
    "\n",
    "* set of images\n",
    "* set of ordered images from a video\n",
    "* set of images (possibly ordered) with bounding-box annotations\n",
    "\n",
    "## constructor inputs\n",
    "\n",
    "* output filepath\n",
    "* list of images\n",
    "* boolean indicator if ordered\n",
    "* optional list of bounding boxes\n",
    "\n",
    "\n",
    "## under-the-hood functions\n",
    "\n",
    "* convert local to global coords and back\n",
    "* propagate labels\n",
    "* estimate homography matrix\n",
    "\n",
    "## user-facing functions\n",
    "\n",
    "* next/previous image\n",
    "* save annotation\n",
    "* remove annotation\n",
    "\n",
    "\n",
    "## record in annotations\n",
    "\n",
    "* patch corner coords (global)\n",
    "* origin of coordinate system for local coords (for cropping later)\n",
    "\n",
    "\n",
    "note: can't register images of different shapes. so for different-shaped crops need to find max or min vals for each dimension or something"
   ]
  },
  {
   "cell_type": "code",
   "execution_count": null,
   "id": "ada8321d-fafd-4104-949c-2e1e9f264952",
   "metadata": {},
   "outputs": [],
   "source": [
    "import holoviews as hv\n",
    "import numpy as np\n",
    "import panel as pn\n",
    "from PIL import Image\n",
    "\n",
    "hv.extension('bokeh')\n",
    "pn.extension()"
   ]
  },
  {
   "cell_type": "code",
   "execution_count": null,
   "id": "9c93cf79-bf4f-4e8b-aa01-7920e75ac947",
   "metadata": {},
   "outputs": [],
   "source": [
    "def _build_holoviews_annotator(img, xs=None, ys=None):\n",
    "    x = np.array(img)\n",
    "    img_hv = hv.RGB(x, bounds=[0, 0, x.shape[1], -1*x.shape[0]])\n",
    "\n",
    "    # initialize a sequence of 4 points if none provided\n",
    "    if (xs is None)&(ys is None):\n",
    "        imshape = x.shape\n",
    "        a = imshape[1]/2 - imshape[1]/4\n",
    "        b = imshape[1]/2 + imshape[1]/4\n",
    "        c = -1*imshape[0]/2 - imshape[0]/4\n",
    "        d = -1*imshape[0]/2 + imshape[0]/4\n",
    "        xs = [a,a,b,b]\n",
    "        ys = [d,c,c,d]\n",
    "\n",
    "    curve = hv.Curve((xs, ys))\n",
    "    curve_annotator = hv.annotate.instance()\n",
    "    fig = img_hv*curve_annotator(curve, annotations={\"Label\":str})\n",
    "    return fig, curve_annotator"
   ]
  },
  {
   "cell_type": "code",
   "execution_count": null,
   "id": "3e73053d-33bb-4821-9fbb-692dadfacb29",
   "metadata": {},
   "outputs": [],
   "source": [
    "def get_homography_transform(im1, im2, num_iterations=1000, pyramid_levels=7):\n",
    "    \"\"\"\n",
    "\n",
    "    \"\"\"\n",
    "    reg = kornia.geometry.ImageRegistrator(\"homography\", \n",
    "                                       num_iterations=num_iterations,\n",
    "                                      pyramid_levels=pyramid_levels,\n",
    "                                       tolerance=1e-8)\n",
    "    return reg.register(im1, im2)"
   ]
  },
  {
   "cell_type": "code",
   "execution_count": null,
   "id": "248ce413-869f-4f14-8358-cddc3a445a54",
   "metadata": {},
   "outputs": [],
   "source": [
    "def transform_coords(xs, ys, matrix, H, W):\n",
    "    # turn coords into a tensor with y-axis flipped and normalized to (-1,1) interval\n",
    "    lab = torch.tensor([ 2*xs/W - 1, -2*ys/H - 1]).permute(1,0).unsqueeze(0).type(torch.float32)\n",
    "    # transform coords\n",
    "    transformed_lab = kornia.geometry.homography.transform_points(matrix.inverse(), lab).detach()\n",
    "    new_xs = (W*transformed_lab[0,:,0].numpy() + W)/2\n",
    "    new_ys = (H*transformed_lab[0,:,1].numpy() + H)/2\n",
    "    return new_xs, new_ys"
   ]
  },
  {
   "cell_type": "code",
   "execution_count": null,
   "id": "d98c1299-394c-4e81-867a-61dd4b260176",
   "metadata": {},
   "outputs": [],
   "source": [
    "img = Image.open(\"/Users/joe/Documents/electricmayhem_tutorials/data/flower2.png\")\n",
    "fig, annotator = _build_holoviews_annotator(img)"
   ]
  },
  {
   "cell_type": "code",
   "execution_count": null,
   "id": "8a09fcd3-fb00-4dea-956b-903e8e439963",
   "metadata": {},
   "outputs": [],
   "source": []
  },
  {
   "cell_type": "code",
   "execution_count": null,
   "id": "52b73c3b-5fab-4537-a95c-73d195383f08",
   "metadata": {},
   "outputs": [],
   "source": [
    "fig"
   ]
  },
  {
   "cell_type": "code",
   "execution_count": null,
   "id": "4662c1f0-1947-4786-87e7-a6d64169cd0f",
   "metadata": {},
   "outputs": [],
   "source": []
  },
  {
   "cell_type": "code",
   "execution_count": null,
   "id": "2c80873e-a917-4516-a3fd-8d52b1e49859",
   "metadata": {},
   "outputs": [],
   "source": [
    "buttons = {\n",
    "    \"back\":pn.widgets.Button(name=\"back\"),\n",
    "    \"next\":pn.widgets.Button(name=\"next\"),\n",
    "    #\"dontsave_next\":pn.widgets.Button(name=\"next (dont save)\"),\n",
    "    #\"dontprop_next\":pn.widgets.Button(name=\"next (dont propagate)\"),\n",
    "}\n",
    "\n",
    "keyframe = pn.widgets.Checkbox(name=\"keyframe\", value=False)\n",
    "progress = pn.indicators.Progress(value=10, width=75)\n",
    "\n",
    "pn.Row(pn.Column(buttons[\"back\"],\n",
    "                buttons[\"next\"],\n",
    "                #buttons[\"dontsave_next\"],\n",
    "                #buttons[\"dontprop_next\"],\n",
    "                keyframe,\n",
    "                progress),\n",
    "    pn.pane.HoloViews(fig.DynamicMap))"
   ]
  },
  {
   "cell_type": "code",
   "execution_count": null,
   "id": "50a74294-d468-4e0f-ae95-9a042fc82a8c",
   "metadata": {},
   "outputs": [],
   "source": [
    "annotator.annotated.dframe()"
   ]
  },
  {
   "cell_type": "code",
   "execution_count": null,
   "id": "cff90220-6955-4f6d-be71-1f63d52497b5",
   "metadata": {},
   "outputs": [],
   "source": [
    "annotator.annotated = hv.Curve(([1,2,3], [4,5,6]))"
   ]
  },
  {
   "cell_type": "code",
   "execution_count": null,
   "id": "711f074c-f42c-447f-aae1-b0e714e1fc78",
   "metadata": {},
   "outputs": [],
   "source": [
    "type(annotator.annotated)"
   ]
  },
  {
   "cell_type": "code",
   "execution_count": null,
   "id": "f4c56a92-32f2-48aa-a9ef-67d5dff8f7d5",
   "metadata": {},
   "outputs": [],
   "source": []
  },
  {
   "cell_type": "code",
   "execution_count": null,
   "id": "4ea5bf3e-71bd-4089-ad4c-e7660e95089a",
   "metadata": {},
   "outputs": [],
   "source": [
    "#x = np.array(Image.open(\"/home/joe/Documents/electricmayhem_tutorials/data/flower2.png\"))\n",
    "x = np.array(Image.open(\"/Users/joe/Documents/electricmayhem_tutorials/data/flower2.png\"))\n",
    "imshape = x.shape\n",
    "print(imshape)\n",
    "img = hv.RGB(x, bounds=[0, 0, 320, -240])#.opts(invert_yaxis=True)\n",
    "img"
   ]
  },
  {
   "cell_type": "code",
   "execution_count": null,
   "id": "81404a56-2f7f-45a8-8e2b-182d5cd8988a",
   "metadata": {},
   "outputs": [],
   "source": [
    "imshape = x.shape\n",
    "a = imshape[1]/2 - imshape[1]/4\n",
    "b = imshape[1]/2 + imshape[1]/4\n",
    "c = -1*imshape[0]/2 - imshape[0]/4\n",
    "d = -1*imshape[0]/2 + imshape[0]/4\n",
    "\n",
    "curve = hv.Curve(([a,a,b,b], [d,c,c,d]))\n",
    "curve"
   ]
  },
  {
   "cell_type": "code",
   "execution_count": null,
   "id": "4f0839ea-7739-473e-8829-dc057cc0a55d",
   "metadata": {},
   "outputs": [],
   "source": [
    "curve_annotator = hv.annotate.instance()"
   ]
  },
  {
   "cell_type": "code",
   "execution_count": null,
   "id": "faaabeea-17b6-45a8-9446-7e95e3e406be",
   "metadata": {},
   "outputs": [],
   "source": [
    "img*curve_annotator(curve, annotations={\"Label\":str})"
   ]
  },
  {
   "cell_type": "code",
   "execution_count": null,
   "id": "00f61f7b-68d1-4b73-bd2f-77af4b8448e0",
   "metadata": {},
   "outputs": [],
   "source": [
    "curve_annotator.annotated.dframe()"
   ]
  },
  {
   "cell_type": "code",
   "execution_count": null,
   "id": "e292c843-a6fe-4293-9d32-17d77f93e38f",
   "metadata": {},
   "outputs": [],
   "source": []
  },
  {
   "cell_type": "code",
   "execution_count": null,
   "id": "6b8319ae-d383-42b3-917d-561b097dd0af",
   "metadata": {},
   "outputs": [],
   "source": [
    "import matplotlib.pyplot as plt\n",
    "import torch\n",
    "import kornia.geometry, kornia.augmentation"
   ]
  },
  {
   "cell_type": "code",
   "execution_count": null,
   "id": "83853b69-a3b6-44c3-9221-fa6ee52dc24f",
   "metadata": {},
   "outputs": [],
   "source": [
    "#im = np.array(Image.open(\"/home/joe/Documents/electricmayhem_tutorials/data/flower2.png\")).astype(np.float32)/255\n",
    "im = np.array(Image.open(\"/Users/joe/Documents/electricmayhem_tutorials/data/flower2.png\")).astype(np.float32)/255\n",
    "imt = torch.tensor(im).permute(2,0,1)[:3,:,:]\n",
    "print(imt.shape)\n",
    "plt.imshow(im);"
   ]
  },
  {
   "cell_type": "code",
   "execution_count": null,
   "id": "ad0a97e0-08c2-4896-b41a-25bdc0dbcb47",
   "metadata": {},
   "outputs": [],
   "source": [
    "aug = kornia.augmentation.RandomAffine(scale=(0.5,1.5), translate=0.25, degrees=10)\n",
    "im1 = aug(imt).detach()\n",
    "im2 = aug(imt).detach()\n",
    "plt.subplot(121)\n",
    "plt.imshow(im1.squeeze(0).permute(1,2,0).numpy())\n",
    "plt.subplot(122)\n",
    "plt.imshow(im2.squeeze(0).permute(1,2,0).numpy());"
   ]
  },
  {
   "cell_type": "code",
   "execution_count": null,
   "id": "ab162165-4a5d-4ab5-8321-f9e0a30175aa",
   "metadata": {},
   "outputs": [],
   "source": [
    "aug._params"
   ]
  },
  {
   "cell_type": "code",
   "execution_count": null,
   "id": "56034f50-21d1-4fff-b663-819613c5bd3f",
   "metadata": {},
   "outputs": [],
   "source": []
  },
  {
   "cell_type": "code",
   "execution_count": null,
   "id": "b3be7a12-d3f6-4180-af72-65925fcd342d",
   "metadata": {},
   "outputs": [],
   "source": []
  },
  {
   "cell_type": "code",
   "execution_count": null,
   "id": "09c46cb1-af98-4473-8a86-d704a3764889",
   "metadata": {},
   "outputs": [],
   "source": []
  },
  {
   "cell_type": "code",
   "execution_count": null,
   "id": "7ccc768b-9c1c-4711-bd11-f09a1c8c8cd8",
   "metadata": {},
   "outputs": [],
   "source": [
    "kornia.geometry.ImageRegistrator.register?"
   ]
  },
  {
   "cell_type": "code",
   "execution_count": null,
   "id": "d4c92bb9-817d-4d61-88ed-86e0ad5638ea",
   "metadata": {},
   "outputs": [],
   "source": [
    "im1.shape"
   ]
  },
  {
   "cell_type": "code",
   "execution_count": null,
   "id": "c3c1ad66-e9a7-4231-857c-74cbf00aa580",
   "metadata": {},
   "outputs": [],
   "source": [
    "#reg = kornia.geometry.ImageRegistrator(num_iterations=1000)\n",
    "reg = kornia.geometry.ImageRegistrator(\"homography\", \n",
    "                                       num_iterations=1000,\n",
    "                                      pyramid_levels=7, # 5\n",
    "                                       tolerance=1e-8\n",
    "                                      )"
   ]
  },
  {
   "cell_type": "code",
   "execution_count": null,
   "id": "5f44ce6c-d678-4ad0-b908-22dfcd7c5bf6",
   "metadata": {},
   "outputs": [],
   "source": [
    "%%time\n",
    "model = reg.register(im1[:,:,:200,:], im2)"
   ]
  },
  {
   "cell_type": "code",
   "execution_count": null,
   "id": "b435f9f6-e397-40b5-9bc0-0a2a4f157f88",
   "metadata": {},
   "outputs": [],
   "source": [
    "model"
   ]
  },
  {
   "cell_type": "code",
   "execution_count": null,
   "id": "27c0edc0-7fe9-41a5-b3a9-78be492f263e",
   "metadata": {},
   "outputs": [],
   "source": [
    "model.shape"
   ]
  },
  {
   "cell_type": "code",
   "execution_count": null,
   "id": "b752ea3b-8887-47ac-aa51-d35c734b67b4",
   "metadata": {},
   "outputs": [],
   "source": [
    "warped = kornia.geometry.homography_warp(im1, model, (240,320), normalized_homography=True)"
   ]
  },
  {
   "cell_type": "code",
   "execution_count": null,
   "id": "382d6556-18d8-4746-bfca-cabae68345a7",
   "metadata": {},
   "outputs": [],
   "source": [
    "plt.subplot(121)\n",
    "plt.imshow(im1.squeeze(0).permute(1,2,0).numpy())\n",
    "plt.title(\"original\")\n",
    "plt.subplot(122)\n",
    "plt.title(\"warped\")\n",
    "plt.imshow(warped.squeeze(0).permute(1,2,0).detach().numpy());"
   ]
  },
  {
   "cell_type": "code",
   "execution_count": null,
   "id": "32db273d-2086-4c9f-b47e-e544330958f3",
   "metadata": {},
   "outputs": [],
   "source": [
    "plt.subplot(121)\n",
    "plt.title(\"warped\")\n",
    "plt.imshow(warped.squeeze(0).permute(1,2,0).detach().numpy())\n",
    "plt.subplot(122)\n",
    "plt.title(\"target\")\n",
    "plt.imshow(im2.squeeze(0).permute(1,2,0).numpy());"
   ]
  },
  {
   "cell_type": "code",
   "execution_count": null,
   "id": "ce79388a-47f9-4ee2-9ac8-46558c3a95ca",
   "metadata": {},
   "outputs": [],
   "source": [
    "img = hv.RGB(im1.squeeze(0).permute(1,2,0).numpy(), bounds=[0, 0, 320, -240])#.opts(invert_yaxis=True)\n",
    "imshape = x.shape\n",
    "a = imshape[1]/2 - imshape[1]/4\n",
    "b = imshape[1]/2 + imshape[1]/4\n",
    "c = -1*imshape[0]/2 - imshape[0]/4\n",
    "d = -1*imshape[0]/2 + imshape[0]/4\n",
    "curve = hv.Curve(([a,a,b,b], [d,c,c,d]))\n",
    "curve_annotator = hv.annotate.instance()\n",
    "img*curve_annotator(curve, annotations={\"Label\":str})"
   ]
  },
  {
   "cell_type": "code",
   "execution_count": null,
   "id": "cd3a82b2-6f97-48e7-94ec-2b957bbc71e8",
   "metadata": {},
   "outputs": [],
   "source": [
    "curve_annotator.annotated.dframe()"
   ]
  },
  {
   "cell_type": "code",
   "execution_count": null,
   "id": "6e903b37-b57b-44c3-822d-61f9c373a38b",
   "metadata": {},
   "outputs": [],
   "source": [
    "# directly put pixels through\n",
    "df = curve_annotator.annotated.dframe()\n",
    "lab = torch.tensor([-1*df.y.values, df.x.values]).permute(1,0).unsqueeze(0).type(torch.float32)\n",
    "transformed_lab = kornia.geometry.homography.transform_points(model, lab).detach()\n",
    "\n",
    "plt.subplot(131)\n",
    "plt.imshow(im1.squeeze(0).permute(1,2,0).numpy())\n",
    "plt.plot(lab[0,:,1].numpy(), lab[0,:,0].numpy())\n",
    "plt.subplot(132)\n",
    "plt.title(\"warped\")\n",
    "plt.imshow(warped.squeeze(0).permute(1,2,0).detach().numpy())\n",
    "plt.plot(lab[0,:,1].numpy(), lab[0,:,0].numpy())\n",
    "plt.plot(transformed_lab[0,:,1].numpy(), transformed_lab[0,:,0].numpy())\n",
    "plt.subplot(133)\n",
    "plt.title(\"target\")\n",
    "plt.imshow(im2.squeeze(0).permute(1,2,0).numpy())\n",
    "plt.plot(transformed_lab[0,:,1].numpy(), transformed_lab[0,:,0].numpy());"
   ]
  },
  {
   "cell_type": "code",
   "execution_count": null,
   "id": "db45570e-9ed0-4c11-95ad-2cb41ecee5e3",
   "metadata": {},
   "outputs": [],
   "source": []
  },
  {
   "cell_type": "code",
   "execution_count": null,
   "id": "5d5cd105-b18c-4c05-94dc-af300c5a677e",
   "metadata": {},
   "outputs": [],
   "source": [
    "# attempt conversion to normalized coordinates to (-1,1) first\n",
    "df = curve_annotator.annotated.dframe()\n",
    "lab = torch.tensor([-1*df.y.values/120-1, df.x.values/160-1]).permute(1,0).unsqueeze(0).type(torch.float32)\n",
    "transformed_lab = kornia.geometry.homography.transform_points(model, lab).detach()\n",
    "\n",
    "plt.subplot(131)\n",
    "plt.imshow(im1.squeeze(0).permute(1,2,0).numpy())\n",
    "plt.plot(160*lab[0,:,1].numpy()+160, 120*lab[0,:,0].numpy()+120)\n",
    "plt.subplot(132)\n",
    "plt.title(\"warped\")\n",
    "plt.imshow(warped.squeeze(0).permute(1,2,0).detach().numpy())\n",
    "plt.plot(160*lab[0,:,1].numpy()+160, 120*lab[0,:,0].numpy()+120)\n",
    "plt.plot(160*transformed_lab[0,:,1].numpy()+160, 120*transformed_lab[0,:,0].numpy()+120)\n",
    "plt.subplot(133)\n",
    "plt.title(\"target\")\n",
    "plt.imshow(im2.squeeze(0).permute(1,2,0).numpy())\n",
    "plt.plot(160*transformed_lab[0,:,1].numpy()+160, 120*transformed_lab[0,:,0].numpy()+120);"
   ]
  },
  {
   "cell_type": "code",
   "execution_count": null,
   "id": "41d827ea-5d93-4326-b2cc-ebc0d92daf50",
   "metadata": {},
   "outputs": [],
   "source": []
  },
  {
   "cell_type": "code",
   "execution_count": null,
   "id": "24403e93-e61b-4b2d-9710-067e26d7cd55",
   "metadata": {},
   "outputs": [],
   "source": [
    "# attempt conversion to normalized coordinates to (-1,1) first and use inverse homography\n",
    "# (suggested in issue 849)\n",
    "df = curve_annotator.annotated.dframe()\n",
    "lab = torch.tensor([-1*df.y.values/120-1, df.x.values/160-1]).permute(1,0).unsqueeze(0).type(torch.float32)\n",
    "transformed_lab = kornia.geometry.homography.transform_points(model.inverse(), lab).detach()\n",
    "\n",
    "plt.subplot(131)\n",
    "plt.imshow(im1.squeeze(0).permute(1,2,0).numpy())\n",
    "plt.plot(160*lab[0,:,1].numpy()+160, 120*lab[0,:,0].numpy()+120)\n",
    "plt.subplot(132)\n",
    "plt.title(\"warped\")\n",
    "plt.imshow(warped.squeeze(0).permute(1,2,0).detach().numpy())\n",
    "plt.plot(160*lab[0,:,1].numpy()+160, 120*lab[0,:,0].numpy()+120)\n",
    "plt.plot(160*transformed_lab[0,:,1].numpy()+160, 120*transformed_lab[0,:,0].numpy()+120)\n",
    "plt.subplot(133)\n",
    "plt.title(\"target\")\n",
    "plt.imshow(im2.squeeze(0).permute(1,2,0).numpy())\n",
    "plt.plot(160*transformed_lab[0,:,1].numpy()+160, 120*transformed_lab[0,:,0].numpy()+120);"
   ]
  },
  {
   "cell_type": "code",
   "execution_count": null,
   "id": "20c78e3a-9a69-4b90-bfab-07ea3b534439",
   "metadata": {},
   "outputs": [],
   "source": []
  },
  {
   "cell_type": "code",
   "execution_count": null,
   "id": "99e4228a-253d-434f-a3a3-f86d6102f358",
   "metadata": {},
   "outputs": [],
   "source": [
    "# attempt conversion to normalized coordinates to (0,1) first\n",
    "df = curve_annotator.annotated.dframe()\n",
    "lab = torch.tensor([-1*df.y.values/240, df.x.values/320]).permute(1,0).unsqueeze(0).type(torch.float32)\n",
    "transformed_lab = kornia.geometry.homography.transform_points(model, lab).detach()\n",
    "\n",
    "plt.subplot(131)\n",
    "plt.imshow(im1.squeeze(0).permute(1,2,0).numpy())\n",
    "plt.plot(320*lab[0,:,1].numpy(), 240*lab[0,:,0].numpy())\n",
    "plt.subplot(132)\n",
    "plt.title(\"warped\")\n",
    "plt.imshow(warped.squeeze(0).permute(1,2,0).detach().numpy())\n",
    "plt.plot(320*lab[0,:,1].numpy(), 240*lab[0,:,0].numpy())\n",
    "plt.plot(320*transformed_lab[0,:,1].numpy(), 240*transformed_lab[0,:,0].numpy())\n",
    "plt.subplot(133)\n",
    "plt.title(\"target\")\n",
    "plt.imshow(im2.squeeze(0).permute(1,2,0).numpy())\n",
    "plt.plot(320*transformed_lab[0,:,1].numpy(), 240*transformed_lab[0,:,0].numpy());"
   ]
  },
  {
   "cell_type": "code",
   "execution_count": null,
   "id": "1d476bcc-ac62-4fd0-bd98-a649996400b6",
   "metadata": {},
   "outputs": [],
   "source": []
  },
  {
   "cell_type": "code",
   "execution_count": null,
   "id": "4d2a0b25-8ed8-427e-99db-e2980daaefdc",
   "metadata": {},
   "outputs": [],
   "source": [
    "# directly put pixels through inverse transform\n",
    "df = curve_annotator.annotated.dframe()\n",
    "lab = torch.tensor([-1*df.y.values, df.x.values]).permute(1,0).unsqueeze(0).type(torch.float32)\n",
    "transformed_lab = kornia.geometry.homography.transform_points(model.inverse(), lab).detach()\n",
    "\n",
    "plt.subplot(131)\n",
    "plt.imshow(im1.squeeze(0).permute(1,2,0).numpy())\n",
    "plt.plot(lab[0,:,1].numpy(), lab[0,:,0].numpy())\n",
    "plt.subplot(132)\n",
    "plt.title(\"warped\")\n",
    "plt.imshow(warped.squeeze(0).permute(1,2,0).detach().numpy())\n",
    "plt.plot(lab[0,:,1].numpy(), lab[0,:,0].numpy())\n",
    "plt.plot(transformed_lab[0,:,1].numpy(), transformed_lab[0,:,0].numpy())\n",
    "plt.subplot(133)\n",
    "plt.title(\"target\")\n",
    "plt.imshow(im2.squeeze(0).permute(1,2,0).numpy())\n",
    "plt.plot(transformed_lab[0,:,1].numpy(), transformed_lab[0,:,0].numpy());"
   ]
  },
  {
   "cell_type": "code",
   "execution_count": null,
   "id": "79db8009-7626-4427-98ec-418f4d514f27",
   "metadata": {},
   "outputs": [],
   "source": []
  },
  {
   "cell_type": "code",
   "execution_count": null,
   "id": "97178d9c-e138-4ec1-8d65-c45c3499df40",
   "metadata": {},
   "outputs": [],
   "source": [
    "# directly put pixels through, swapping x and y channels\n",
    "df = curve_annotator.annotated.dframe()\n",
    "lab = torch.tensor([df.x.values, -1*df.y.values]).permute(1,0).unsqueeze(0).type(torch.float32)\n",
    "transformed_lab = kornia.geometry.homography.transform_points(model, lab).detach()\n",
    "\n",
    "plt.subplot(131)\n",
    "plt.imshow(im1.squeeze(0).permute(1,2,0).numpy())\n",
    "plt.plot(lab[0,:,0].numpy(), lab[0,:,1].numpy())\n",
    "plt.subplot(132)\n",
    "plt.title(\"warped\")\n",
    "plt.imshow(warped.squeeze(0).permute(1,2,0).detach().numpy())\n",
    "plt.plot(lab[0,:,0].numpy(), lab[0,:,1].numpy())\n",
    "plt.plot(transformed_lab[0,:,0].numpy(), transformed_lab[0,:,1].numpy())\n",
    "plt.subplot(133)\n",
    "plt.title(\"target\")\n",
    "plt.imshow(im2.squeeze(0).permute(1,2,0).numpy())\n",
    "plt.plot(transformed_lab[0,:,0].numpy(), transformed_lab[0,:,1].numpy());"
   ]
  },
  {
   "cell_type": "code",
   "execution_count": null,
   "id": "f3601396-f5d9-46ba-a8d7-8e41ab44aa46",
   "metadata": {},
   "outputs": [],
   "source": []
  },
  {
   "cell_type": "code",
   "execution_count": null,
   "id": "1c7c46d4-d43c-463d-8f90-bb7284845c2a",
   "metadata": {},
   "outputs": [],
   "source": [
    "# attempt conversion to normalized coordinates to (-1,1) first and use inverse homography\n",
    "# (suggested in issue 849)\n",
    "# but this time also swap x and y channels\n",
    "df = curve_annotator.annotated.dframe()\n",
    "lab = torch.tensor([df.x.values/160-1, -1*df.y.values/120-1]).permute(1,0).unsqueeze(0).type(torch.float32)\n",
    "transformed_lab = kornia.geometry.homography.transform_points(model.inverse(), lab).detach()\n",
    "\n",
    "plt.subplot(131)\n",
    "plt.imshow(im1.squeeze(0).permute(1,2,0).numpy())\n",
    "plt.plot(160*lab[0,:,0].numpy()+160, 120*lab[0,:,1].numpy()+120)\n",
    "plt.subplot(132)\n",
    "plt.title(\"warped\")\n",
    "plt.imshow(warped.squeeze(0).permute(1,2,0).detach().numpy())\n",
    "plt.plot(160*lab[0,:,0].numpy()+160, 120*lab[0,:,1].numpy()+120)\n",
    "plt.plot(160*transformed_lab[0,:,0].numpy()+160, 120*transformed_lab[0,:,1].numpy()+120)\n",
    "plt.subplot(133)\n",
    "plt.title(\"target\")\n",
    "plt.imshow(im2.squeeze(0).permute(1,2,0).numpy())\n",
    "plt.plot(160*transformed_lab[0,:,0].numpy()+160, 120*transformed_lab[0,:,1].numpy()+120);"
   ]
  },
  {
   "cell_type": "code",
   "execution_count": null,
   "id": "ac7ab5e7-a69f-4536-85dd-3e21b954d2c9",
   "metadata": {},
   "outputs": [],
   "source": [
    "def transform_coords(xs, ys, matrix, H, W):\n",
    "    # turn coords into a tensor with y-axis flipped and normalized to (-1,1) interval\n",
    "    lab = torch.tensor([ 2*xs/W - 1, -2*ys/H - 1]).permute(1,0).unsqueeze(0).type(torch.float32)\n",
    "    # transform coords\n",
    "    transformed_lab = kornia.geometry.homography.transform_points(matrix.inverse(), lab).detach()\n",
    "    new_xs = (W*transformed_lab[0,:,0].numpy() + W)/2\n",
    "    new_ys = (H*transformed_lab[0,:,1].numpy() + H)/2\n",
    "    return new_xs, new_ys"
   ]
  },
  {
   "cell_type": "code",
   "execution_count": null,
   "id": "cf54ee1f-a593-404b-bd11-e606927705ff",
   "metadata": {},
   "outputs": [],
   "source": []
  },
  {
   "cell_type": "code",
   "execution_count": null,
   "id": "aaea3bc4-0479-4fc1-8df3-1648568b54e7",
   "metadata": {},
   "outputs": [],
   "source": []
  },
  {
   "cell_type": "code",
   "execution_count": null,
   "id": "2d577b62-92bb-44f6-93e7-b1b4bf597831",
   "metadata": {},
   "outputs": [],
   "source": []
  },
  {
   "cell_type": "code",
   "execution_count": null,
   "id": "b294908e-f5cd-4db9-9f46-18b4bb9e649f",
   "metadata": {},
   "outputs": [],
   "source": []
  },
  {
   "cell_type": "code",
   "execution_count": null,
   "id": "b7afcbf2-4b1b-443d-83d3-778817c5b208",
   "metadata": {},
   "outputs": [],
   "source": []
  }
 ],
 "metadata": {
  "kernelspec": {
   "display_name": "Python 3 (ipykernel)",
   "language": "python",
   "name": "python3"
  },
  "language_info": {
   "codemirror_mode": {
    "name": "ipython",
    "version": 3
   },
   "file_extension": ".py",
   "mimetype": "text/x-python",
   "name": "python",
   "nbconvert_exporter": "python",
   "pygments_lexer": "ipython3",
   "version": "3.10.16"
  }
 },
 "nbformat": 4,
 "nbformat_minor": 5
}
