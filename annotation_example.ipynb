{
 "cells": [
  {
   "cell_type": "code",
   "execution_count": null,
   "id": "ada8321d-fafd-4104-949c-2e1e9f264952",
   "metadata": {},
   "outputs": [],
   "source": [
    "import holoviews as hv\n",
    "import numpy as np\n",
    "import panel as pn\n",
    "from PIL import Image\n",
    "\n",
    "hv.extension('bokeh')"
   ]
  },
  {
   "cell_type": "code",
   "execution_count": null,
   "id": "9c93cf79-bf4f-4e8b-aa01-7920e75ac947",
   "metadata": {},
   "outputs": [],
   "source": []
  },
  {
   "cell_type": "code",
   "execution_count": null,
   "id": "4ea5bf3e-71bd-4089-ad4c-e7660e95089a",
   "metadata": {},
   "outputs": [],
   "source": [
    "x = np.array(Image.open(\"/home/joe/Documents/electricmayhem_tutorials/data/flower2.png\"))\n",
    "imshape = x.shape\n",
    "print(imshape)\n",
    "img = hv.RGB(x, bounds=[0, 0, 320, -240])#.opts(invert_yaxis=True)\n",
    "img"
   ]
  },
  {
   "cell_type": "code",
   "execution_count": null,
   "id": "81404a56-2f7f-45a8-8e2b-182d5cd8988a",
   "metadata": {},
   "outputs": [],
   "source": [
    "#curve = hv.Curve(np.random.randn(50).cumsum())\n",
    "a = imshape[1]/2 - imshape[1]/4\n",
    "b = imshape[1]/2 + imshape[1]/4\n",
    "c = -1*imshape[0]/2 - imshape[0]/4\n",
    "d = -1*imshape[0]/2 + imshape[0]/4\n",
    "\n",
    "curve = hv.Curve(([a,a,b,b], [d,c,c,d]))\n",
    "curve"
   ]
  },
  {
   "cell_type": "code",
   "execution_count": null,
   "id": "4f0839ea-7739-473e-8829-dc057cc0a55d",
   "metadata": {},
   "outputs": [],
   "source": [
    "curve_annotator = hv.annotate.instance()"
   ]
  },
  {
   "cell_type": "code",
   "execution_count": null,
   "id": "faaabeea-17b6-45a8-9446-7e95e3e406be",
   "metadata": {},
   "outputs": [],
   "source": [
    "img*curve_annotator(curve, annotations={\"Label\":str})"
   ]
  },
  {
   "cell_type": "code",
   "execution_count": null,
   "id": "00f61f7b-68d1-4b73-bd2f-77af4b8448e0",
   "metadata": {},
   "outputs": [],
   "source": [
    "curve_annotator.annotated.dframe()"
   ]
  },
  {
   "cell_type": "code",
   "execution_count": null,
   "id": "e292c843-a6fe-4293-9d32-17d77f93e38f",
   "metadata": {},
   "outputs": [],
   "source": []
  },
  {
   "cell_type": "code",
   "execution_count": null,
   "id": "6b8319ae-d383-42b3-917d-561b097dd0af",
   "metadata": {},
   "outputs": [],
   "source": [
    "import matplotlib.pyplot as plt\n",
    "import torch\n",
    "import kornia.geometry, kornia.augmentation"
   ]
  },
  {
   "cell_type": "code",
   "execution_count": null,
   "id": "83853b69-a3b6-44c3-9221-fa6ee52dc24f",
   "metadata": {},
   "outputs": [],
   "source": [
    "im = np.array(Image.open(\"/home/joe/Documents/electricmayhem_tutorials/data/flower2.png\")).astype(np.float32)/255\n",
    "imt = torch.tensor(im).permute(2,0,1)[:3,:,:]\n",
    "print(imt.shape)\n",
    "plt.imshow(im);"
   ]
  },
  {
   "cell_type": "code",
   "execution_count": null,
   "id": "ad0a97e0-08c2-4896-b41a-25bdc0dbcb47",
   "metadata": {},
   "outputs": [],
   "source": [
    "aug = kornia.augmentation.RandomAffine(scale=(0.5,1.5), translate=0.25, degrees=30)\n",
    "im1 = aug(imt).detach()\n",
    "im2 = aug(imt).detach()\n",
    "plt.subplot(121)\n",
    "plt.imshow(im1.squeeze(0).permute(1,2,0).numpy())\n",
    "plt.subplot(122)\n",
    "plt.imshow(im2.squeeze(0).permute(1,2,0).numpy());"
   ]
  },
  {
   "cell_type": "code",
   "execution_count": null,
   "id": "c3c1ad66-e9a7-4231-857c-74cbf00aa580",
   "metadata": {},
   "outputs": [],
   "source": [
    "reg = kornia.geometry.ImageRegistrator(num_iterations=1000)"
   ]
  },
  {
   "cell_type": "code",
   "execution_count": null,
   "id": "5f44ce6c-d678-4ad0-b908-22dfcd7c5bf6",
   "metadata": {},
   "outputs": [],
   "source": [
    "%%time\n",
    "model = reg.register(im1, im2)"
   ]
  },
  {
   "cell_type": "code",
   "execution_count": null,
   "id": "a16714e3-04a2-47dc-9a06-78ef4a0be2e0",
   "metadata": {},
   "outputs": [],
   "source": []
  },
  {
   "cell_type": "code",
   "execution_count": null,
   "id": "c8b279c6-bfc9-46b1-a6d0-1a57655aa42c",
   "metadata": {},
   "outputs": [],
   "source": []
  },
  {
   "cell_type": "code",
   "execution_count": null,
   "id": "b435f9f6-e397-40b5-9bc0-0a2a4f157f88",
   "metadata": {},
   "outputs": [],
   "source": []
  },
  {
   "cell_type": "code",
   "execution_count": null,
   "id": "a2f5f6b0-7b3c-4d69-b27c-23353c0d3f96",
   "metadata": {},
   "outputs": [],
   "source": []
  },
  {
   "cell_type": "code",
   "execution_count": null,
   "id": "27c0edc0-7fe9-41a5-b3a9-78be492f263e",
   "metadata": {},
   "outputs": [],
   "source": [
    "model.shape"
   ]
  },
  {
   "cell_type": "code",
   "execution_count": null,
   "id": "b752ea3b-8887-47ac-aa51-d35c734b67b4",
   "metadata": {},
   "outputs": [],
   "source": [
    "warped = kornia.geometry.homography_warp(im1, model, (240,320))"
   ]
  },
  {
   "cell_type": "code",
   "execution_count": null,
   "id": "32db273d-2086-4c9f-b47e-e544330958f3",
   "metadata": {},
   "outputs": [],
   "source": [
    "plt.subplot(121)\n",
    "plt.imshow(warped.squeeze(0).permute(1,2,0).detach().numpy())\n",
    "plt.subplot(122)\n",
    "plt.imshow(im2.squeeze(0).permute(1,2,0).numpy());"
   ]
  },
  {
   "cell_type": "code",
   "execution_count": null,
   "id": "ce79388a-47f9-4ee2-9ac8-46558c3a95ca",
   "metadata": {},
   "outputs": [],
   "source": []
  }
 ],
 "metadata": {
  "kernelspec": {
   "display_name": "Python 3 (ipykernel)",
   "language": "python",
   "name": "python3"
  },
  "language_info": {
   "codemirror_mode": {
    "name": "ipython",
    "version": 3
   },
   "file_extension": ".py",
   "mimetype": "text/x-python",
   "name": "python",
   "nbconvert_exporter": "python",
   "pygments_lexer": "ipython3",
   "version": "3.10.16"
  }
 },
 "nbformat": 4,
 "nbformat_minor": 5
}
